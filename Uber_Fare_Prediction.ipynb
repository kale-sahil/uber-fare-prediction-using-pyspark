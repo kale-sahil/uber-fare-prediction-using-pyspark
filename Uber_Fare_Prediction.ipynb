{
 "cells": [
  {
   "cell_type": "markdown",
   "metadata": {
    "application/vnd.databricks.v1+cell": {
     "cellMetadata": {
      "byteLimit": 2048000,
      "rowLimit": 10000
     },
     "inputWidgets": {},
     "nuid": "6f2d0bc6-a73d-42f5-a944-b80965145c45",
     "showTitle": false,
     "title": ""
    }
   },
   "source": [
    "# Necessary imports"
   ]
  },
  {
   "cell_type": "code",
   "execution_count": 0,
   "metadata": {
    "application/vnd.databricks.v1+cell": {
     "cellMetadata": {
      "byteLimit": 2048000,
      "rowLimit": 10000
     },
     "inputWidgets": {},
     "nuid": "c74831be-8d7d-4b5f-a12b-c8e94c2da422",
     "showTitle": false,
     "title": ""
    }
   },
   "outputs": [],
   "source": [
    "from pyspark.sql.functions import sum, col, round, max\n",
    "from pyspark.sql.functions import hour, dayofmonth, month, year, dayofweek\n",
    "from pyspark.sql.functions import radians, sin, cos, asin, sqrt\n",
    "\n",
    "\n",
    "from pyspark.sql.types import ArrayType, FloatType"
   ]
  },
  {
   "cell_type": "code",
   "execution_count": 0,
   "metadata": {
    "application/vnd.databricks.v1+cell": {
     "cellMetadata": {
      "byteLimit": 2048000,
      "rowLimit": 10000
     },
     "inputWidgets": {},
     "nuid": "88964cba-3285-4679-9c67-da93ec52b95e",
     "showTitle": false,
     "title": ""
    }
   },
   "outputs": [
    {
     "output_type": "display_data",
     "data": {
      "application/vnd.databricks.v1+bamboolib_hint": "{\"pd.DataFrames\": [], \"version\": \"0.0.1\"}",
      "text/plain": []
     },
     "metadata": {},
     "output_type": "display_data"
    }
   ],
   "source": [
    "# required for graphical representation\n",
    "import matplotlib.pyplot as plt\n",
    "import pandas as pd"
   ]
  },
  {
   "cell_type": "markdown",
   "metadata": {
    "application/vnd.databricks.v1+cell": {
     "cellMetadata": {
      "byteLimit": 2048000,
      "rowLimit": 10000
     },
     "inputWidgets": {},
     "nuid": "45a453a8-ca3e-4097-9fc3-d9f817850437",
     "showTitle": false,
     "title": ""
    }
   },
   "source": [
    "# Reading the Data"
   ]
  },
  {
   "cell_type": "code",
   "execution_count": 0,
   "metadata": {
    "application/vnd.databricks.v1+cell": {
     "cellMetadata": {
      "byteLimit": 2048000,
      "rowLimit": 10000
     },
     "inputWidgets": {},
     "nuid": "6c750358-99f0-464c-bc48-e0f0ddeadf1a",
     "showTitle": false,
     "title": ""
    }
   },
   "outputs": [
    {
     "output_type": "stream",
     "name": "stdout",
     "output_type": "stream",
     "text": [
      "+--------+-------------------+-----------+-------------------+------------------+------------------+------------------+------------------+---------------+\n|     _c0|                key|fare_amount|    pickup_datetime|  pickup_longitude|   pickup_latitude| dropoff_longitude|  dropoff_latitude|passenger_count|\n+--------+-------------------+-----------+-------------------+------------------+------------------+------------------+------------------+---------------+\n|24238194|2015-05-07 19:52:06|        7.5|2015-05-07 19:52:06|-73.99981689453125| 40.73835372924805|   -73.99951171875| 40.72321701049805|              1|\n|27835199|2009-07-17 20:04:56|        7.7|2009-07-17 20:04:56|        -73.994355|         40.728225|         -73.99471|         40.750325|              1|\n|44984355|2009-08-24 21:45:00|       12.9|2009-08-24 21:45:00|        -74.005043|          40.74077|        -73.962565|         40.772647|              1|\n|25894730|2009-06-26 08:22:21|        5.3|2009-06-26 08:22:21|        -73.976124|         40.790844|        -73.965316|         40.803349|              3|\n|17610152|2014-08-28 17:47:00|       16.0|2014-08-28 17:47:00|        -73.925023|         40.744085|-73.97308199999999|         40.761247|              5|\n|44470845|2011-02-12 02:27:09|        4.9|2011-02-12 02:27:09|-73.96901899999999|          40.75591|-73.96901899999999|          40.75591|              1|\n|48725865|2014-10-12 07:04:00|       24.5|2014-10-12 07:04:00|-73.96144699999999|40.693965000000006|        -73.871195|         40.774297|              5|\n|44195482|2012-12-11 13:52:00|        2.5|2012-12-11 13:52:00|               0.0|               0.0|               0.0|               0.0|              1|\n|15822268|2012-02-17 09:32:00|        9.7|2012-02-17 09:32:00|        -73.975187|         40.745767|         -74.00272|40.743536999999996|              1|\n|50611056|2012-03-29 19:06:00|       12.5|2012-03-29 19:06:00|        -74.001065|         40.741787|         -73.96304|         40.775012|              1|\n| 2205147|2015-05-22 17:32:27|        6.5|2015-05-22 17:32:27| -73.9743881225586| 40.74695205688477|-73.98858642578125|40.729804992675774|              1|\n| 6379048|2011-05-23 22:15:00|        8.5|2011-05-23 22:15:00|               0.0|               0.0|               0.0|               0.0|              1|\n|31892535|2011-05-17 14:03:00|        3.3|2011-05-17 14:03:00|        -73.966378|          40.80444|         -73.96589|         40.807133|              5|\n|13012786|2011-06-25 11:19:00|       10.9|2011-06-25 11:19:00|        -73.953352|         40.767382|         -73.97251|         40.796137|              1|\n|48411337|2010-04-06 22:20:27|        6.9|2010-04-06 22:20:27|-73.97336999999999|         40.755193|-73.97826500000001|         40.766375|              1|\n|46272151|2012-02-21 09:33:00|        9.7|2012-02-21 09:33:00|        -73.990718|          40.75192|-73.97305300000001|          40.74423|              2|\n|11875730|2011-09-01 09:21:40|        4.9|2011-09-01 09:21:40|        -73.988908|         40.756982|        -73.981246|          40.76005|              1|\n| 1728270|2011-03-19 23:58:27|       10.5|2011-03-19 23:58:27|-74.00566500000001|         40.741138|-73.97783000000001|         40.749338|              2|\n|49173512|2015-03-25 08:58:35|       12.0|2015-03-25 08:58:35|-73.96253204345702|40.767189025878906|-73.97445678710938| 40.75386047363281|              1|\n|33157445|2009-08-08 00:20:00|        4.9|2009-08-08 00:20:00|        -73.992075|         40.719633|        -73.985323|         40.727405|              1|\n+--------+-------------------+-----------+-------------------+------------------+------------------+------------------+------------------+---------------+\nonly showing top 20 rows\n\n"
     ]
    }
   ],
   "source": [
    "# importing the dataset\n",
    "file_location = \"/FileStore/tables/uber.csv\"\n",
    "\n",
    "uber = spark.read.format('csv').load(file_location, header = True, inferSchema = True)\n",
    "uber.show()"
   ]
  },
  {
   "cell_type": "code",
   "execution_count": 0,
   "metadata": {
    "application/vnd.databricks.v1+cell": {
     "cellMetadata": {
      "byteLimit": 2048000,
      "rowLimit": 10000
     },
     "inputWidgets": {},
     "nuid": "dec3db4b-f6ba-46fb-956b-992e871619e8",
     "showTitle": false,
     "title": ""
    }
   },
   "outputs": [],
   "source": [
    "# creating the copy of the Data\n",
    "uber_copy = uber.select(\"*\")"
   ]
  },
  {
   "cell_type": "markdown",
   "metadata": {
    "application/vnd.databricks.v1+cell": {
     "cellMetadata": {
      "byteLimit": 2048000,
      "rowLimit": 10000
     },
     "inputWidgets": {},
     "nuid": "0caef897-8334-4b7d-81f9-ce26848d4b21",
     "showTitle": false,
     "title": ""
    }
   },
   "source": [
    "# Exploratory Data Analysis"
   ]
  },
  {
   "cell_type": "code",
   "execution_count": 0,
   "metadata": {
    "application/vnd.databricks.v1+cell": {
     "cellMetadata": {
      "byteLimit": 2048000,
      "rowLimit": 10000
     },
     "inputWidgets": {},
     "nuid": "c6513c3f-c4c5-4502-a0d6-0a1d9462c110",
     "showTitle": false,
     "title": ""
    }
   },
   "outputs": [
    {
     "output_type": "stream",
     "name": "stdout",
     "output_type": "stream",
     "text": [
      "root\n |-- _c0: integer (nullable = true)\n |-- key: timestamp (nullable = true)\n |-- fare_amount: double (nullable = true)\n |-- pickup_datetime: timestamp (nullable = true)\n |-- pickup_longitude: double (nullable = true)\n |-- pickup_latitude: double (nullable = true)\n |-- dropoff_longitude: double (nullable = true)\n |-- dropoff_latitude: double (nullable = true)\n |-- passenger_count: integer (nullable = true)\n\n"
     ]
    }
   ],
   "source": [
    "# displaying the schema in tree format\n",
    "uber_copy.printSchema()"
   ]
  },
  {
   "cell_type": "code",
   "execution_count": 0,
   "metadata": {
    "application/vnd.databricks.v1+cell": {
     "cellMetadata": {
      "byteLimit": 2048000,
      "rowLimit": 10000
     },
     "inputWidgets": {},
     "nuid": "fa77fea9-87c9-4996-bcbe-46044c6b5eaa",
     "showTitle": false,
     "title": ""
    }
   },
   "outputs": [
    {
     "output_type": "stream",
     "name": "stdout",
     "output_type": "stream",
     "text": [
      "+--------+-------------------+-----------+-------------------+------------------+-----------------+------------------+-----------------+---------------+\n|     _c0|                key|fare_amount|    pickup_datetime|  pickup_longitude|  pickup_latitude| dropoff_longitude| dropoff_latitude|passenger_count|\n+--------+-------------------+-----------+-------------------+------------------+-----------------+------------------+-----------------+---------------+\n|24238194|2015-05-07 19:52:06|        7.5|2015-05-07 19:52:06|-73.99981689453125|40.73835372924805|   -73.99951171875|40.72321701049805|              1|\n|27835199|2009-07-17 20:04:56|        7.7|2009-07-17 20:04:56|        -73.994355|        40.728225|         -73.99471|        40.750325|              1|\n|44984355|2009-08-24 21:45:00|       12.9|2009-08-24 21:45:00|        -74.005043|         40.74077|        -73.962565|        40.772647|              1|\n|25894730|2009-06-26 08:22:21|        5.3|2009-06-26 08:22:21|        -73.976124|        40.790844|        -73.965316|        40.803349|              3|\n|17610152|2014-08-28 17:47:00|       16.0|2014-08-28 17:47:00|        -73.925023|        40.744085|-73.97308199999999|        40.761247|              5|\n+--------+-------------------+-----------+-------------------+------------------+-----------------+------------------+-----------------+---------------+\nonly showing top 5 rows\n\n"
     ]
    }
   ],
   "source": [
    "# displaying first 5 entries\n",
    "uber_copy.show(5)"
   ]
  },
  {
   "cell_type": "code",
   "execution_count": 0,
   "metadata": {
    "application/vnd.databricks.v1+cell": {
     "cellMetadata": {
      "byteLimit": 2048000,
      "rowLimit": 10000
     },
     "inputWidgets": {},
     "nuid": "b768e80a-8537-4f33-99ca-57511d1e20fc",
     "showTitle": false,
     "title": ""
    }
   },
   "outputs": [
    {
     "output_type": "stream",
     "name": "stdout",
     "output_type": "stream",
     "text": [
      "+-------+--------------------+------------------+------------------+------------------+------------------+------------------+------------------+\n|summary|                 _c0|       fare_amount|  pickup_longitude|   pickup_latitude| dropoff_longitude|  dropoff_latitude|   passenger_count|\n+-------+--------------------+------------------+------------------+------------------+------------------+------------------+------------------+\n|  count|              200000|            200000|            200000|            200000|            199999|            199999|            200000|\n|   mean|    2.771250368235E7|11.359955249999953|-72.52763791623703| 39.93588537801224| -72.5252916274742|  39.9238904018327|          1.684535|\n| stddev|1.6013822212829249E7|  9.90177622506988| 11.43778733893171| 7.720539407361833| 13.11740777853664| 6.794828840545128|1.3859965507558791|\n|    min|                   1|             -52.0|       -1340.64841|-74.01551500000001|        -3356.6663|-881.9855130000001|                 0|\n|    max|            55423567|             499.0|         57.418457|       1644.421482|1153.5726029999998| 872.6976279999999|               208|\n+-------+--------------------+------------------+------------------+------------------+------------------+------------------+------------------+\n\n"
     ]
    }
   ],
   "source": [
    "# displaying the numerical stats of data\n",
    "uber_copy.describe().show()"
   ]
  },
  {
   "cell_type": "code",
   "execution_count": 0,
   "metadata": {
    "application/vnd.databricks.v1+cell": {
     "cellMetadata": {
      "byteLimit": 2048000,
      "rowLimit": 10000
     },
     "inputWidgets": {},
     "nuid": "585c789b-0dc1-463c-ade5-09bdc4c47403",
     "showTitle": false,
     "title": ""
    }
   },
   "outputs": [
    {
     "output_type": "stream",
     "name": "stdout",
     "output_type": "stream",
     "text": [
      "Out[27]: ['_c0',\n 'key',\n 'fare_amount',\n 'pickup_datetime',\n 'pickup_longitude',\n 'pickup_latitude',\n 'dropoff_longitude',\n 'dropoff_latitude',\n 'passenger_count']"
     ]
    }
   ],
   "source": [
    "# list of all columns\n",
    "uber_copy.columns"
   ]
  },
  {
   "cell_type": "code",
   "execution_count": 0,
   "metadata": {
    "application/vnd.databricks.v1+cell": {
     "cellMetadata": {
      "byteLimit": 2048000,
      "rowLimit": 10000
     },
     "inputWidgets": {},
     "nuid": "2d6d0f0f-9e51-42dc-ac41-c5c977743e29",
     "showTitle": false,
     "title": ""
    }
   },
   "outputs": [
    {
     "output_type": "stream",
     "name": "stdout",
     "output_type": "stream",
     "text": [
      "+-----------+-------------------+------------------+-----------------+------------------+-----------------+---------------+\n|fare_amount|    pickup_datetime|  pickup_longitude|  pickup_latitude| dropoff_longitude| dropoff_latitude|passenger_count|\n+-----------+-------------------+------------------+-----------------+------------------+-----------------+---------------+\n|        7.5|2015-05-07 19:52:06|-73.99981689453125|40.73835372924805|   -73.99951171875|40.72321701049805|              1|\n|        7.7|2009-07-17 20:04:56|        -73.994355|        40.728225|         -73.99471|        40.750325|              1|\n|       12.9|2009-08-24 21:45:00|        -74.005043|         40.74077|        -73.962565|        40.772647|              1|\n|        5.3|2009-06-26 08:22:21|        -73.976124|        40.790844|        -73.965316|        40.803349|              3|\n|       16.0|2014-08-28 17:47:00|        -73.925023|        40.744085|-73.97308199999999|        40.761247|              5|\n+-----------+-------------------+------------------+-----------------+------------------+-----------------+---------------+\nonly showing top 5 rows\n\n"
     ]
    }
   ],
   "source": [
    "# dropping the columns that are not required for prediction\n",
    "uber_copy = uber_copy.drop('_c0', 'key')\n",
    "uber_copy.show(5)"
   ]
  },
  {
   "cell_type": "code",
   "execution_count": 0,
   "metadata": {
    "application/vnd.databricks.v1+cell": {
     "cellMetadata": {
      "byteLimit": 2048000,
      "rowLimit": 10000
     },
     "inputWidgets": {},
     "nuid": "c255dd8a-9fb7-4c2b-8883-a4073b996b37",
     "showTitle": false,
     "title": ""
    }
   },
   "outputs": [
    {
     "output_type": "stream",
     "name": "stdout",
     "output_type": "stream",
     "text": [
      "Total number of rows and columns are: (200000, 7)\n"
     ]
    }
   ],
   "source": [
    "# equivalent to df.shape in pandas\n",
    "print(\"Total number of rows and columns are:\", (uber_copy.count(), len(uber_copy.columns)))"
   ]
  },
  {
   "cell_type": "code",
   "execution_count": 0,
   "metadata": {
    "application/vnd.databricks.v1+cell": {
     "cellMetadata": {
      "byteLimit": 2048000,
      "rowLimit": 10000
     },
     "inputWidgets": {},
     "nuid": "7d66e88d-8cae-4624-90ef-54f17c042985",
     "showTitle": false,
     "title": ""
    }
   },
   "outputs": [
    {
     "output_type": "stream",
     "name": "stdout",
     "output_type": "stream",
     "text": [
      "Out[30]: [('fare_amount', 'double'),\n ('pickup_datetime', 'timestamp'),\n ('pickup_longitude', 'double'),\n ('pickup_latitude', 'double'),\n ('dropoff_longitude', 'double'),\n ('dropoff_latitude', 'double'),\n ('passenger_count', 'int')]"
     ]
    }
   ],
   "source": [
    "# equivalet to uber_copy.printSchema() but not in tree format\n",
    "uber_copy.dtypes"
   ]
  },
  {
   "cell_type": "code",
   "execution_count": 0,
   "metadata": {
    "application/vnd.databricks.v1+cell": {
     "cellMetadata": {
      "byteLimit": 2048000,
      "rowLimit": 10000
     },
     "inputWidgets": {},
     "nuid": "208f471f-a1c2-4320-9fb6-9ce6c9c11b2b",
     "showTitle": false,
     "title": ""
    }
   },
   "outputs": [
    {
     "output_type": "stream",
     "name": "stdout",
     "output_type": "stream",
     "text": [
      "+-----------+---------------+----------------+---------------+-----------------+----------------+---------------+\n|fare_amount|pickup_datetime|pickup_longitude|pickup_latitude|dropoff_longitude|dropoff_latitude|passenger_count|\n+-----------+---------------+----------------+---------------+-----------------+----------------+---------------+\n|          0|              0|               0|              0|                1|               1|              0|\n+-----------+---------------+----------------+---------------+-----------------+----------------+---------------+\n\n"
     ]
    }
   ],
   "source": [
    "# finding null values\n",
    "# from pyspark.sql.functions import sum, col\n",
    "null_values = uber_copy.select( [ sum(col(column).isNull().cast('int')).alias(column) for column in uber_copy.columns ])\n",
    "null_values.show()"
   ]
  },
  {
   "cell_type": "code",
   "execution_count": 0,
   "metadata": {
    "application/vnd.databricks.v1+cell": {
     "cellMetadata": {
      "byteLimit": 2048000,
      "rowLimit": 10000
     },
     "inputWidgets": {},
     "nuid": "bb169845-9642-4f0c-83f8-5b1712db7681",
     "showTitle": false,
     "title": ""
    }
   },
   "outputs": [
    {
     "output_type": "stream",
     "name": "stdout",
     "output_type": "stream",
     "text": [
      "Out[32]: 199999"
     ]
    }
   ],
   "source": [
    "# dropping the null values\n",
    "uber_copy = uber_copy.na.drop(how = 'any', subset = ['dropoff_longitude', 'dropoff_latitude'])\n",
    "# dropped 1 null values row as earlier count was 200000 -> new 199999\n",
    "uber_copy.count()"
   ]
  },
  {
   "cell_type": "code",
   "execution_count": 0,
   "metadata": {
    "application/vnd.databricks.v1+cell": {
     "cellMetadata": {
      "byteLimit": 2048000,
      "rowLimit": 10000
     },
     "inputWidgets": {},
     "nuid": "c0312d41-24da-4010-a238-053daf9f27ef",
     "showTitle": false,
     "title": ""
    }
   },
   "outputs": [
    {
     "output_type": "stream",
     "name": "stdout",
     "output_type": "stream",
     "text": [
      "+-----------+-------------------+------------------+-----------------+------------------+-----------------+---------------+----+---+-----+----+---------+\n|fare_amount|    pickup_datetime|  pickup_longitude|  pickup_latitude| dropoff_longitude| dropoff_latitude|passenger_count|hour|day|month|year|dayofweek|\n+-----------+-------------------+------------------+-----------------+------------------+-----------------+---------------+----+---+-----+----+---------+\n|        7.5|2015-05-07 19:52:06|-73.99981689453125|40.73835372924805|   -73.99951171875|40.72321701049805|              1|  19|  7|    5|2015|        5|\n|        7.7|2009-07-17 20:04:56|        -73.994355|        40.728225|         -73.99471|        40.750325|              1|  20| 17|    7|2009|        6|\n|       12.9|2009-08-24 21:45:00|        -74.005043|         40.74077|        -73.962565|        40.772647|              1|  21| 24|    8|2009|        2|\n|        5.3|2009-06-26 08:22:21|        -73.976124|        40.790844|        -73.965316|        40.803349|              3|   8| 26|    6|2009|        6|\n|       16.0|2014-08-28 17:47:00|        -73.925023|        40.744085|-73.97308199999999|        40.761247|              5|  17| 28|    8|2014|        5|\n+-----------+-------------------+------------------+-----------------+------------------+-----------------+---------------+----+---+-----+----+---------+\nonly showing top 5 rows\n\n"
     ]
    }
   ],
   "source": [
    "# this functions are present in pyspark.sql.functions\n",
    "# extracting hour[hour], day[dayofmonth], month[month], year[year], dayofweek[dayofweek] from 'pickup_datetime' and adding seperate columns of each\n",
    "    \n",
    "uber_copy = uber_copy.withColumn('hour', hour(uber_copy['pickup_datetime'])) \\\n",
    "                     .withColumn('day', dayofmonth(uber_copy['pickup_datetime'])) \\\n",
    "                     .withColumn('month', month(uber_copy['pickup_datetime'])) \\\n",
    "                     .withColumn('year', year(uber_copy['pickup_datetime'])) \\\n",
    "                     .withColumn('dayofweek', dayofweek(uber_copy['pickup_datetime']))\n",
    "    \n",
    "uber_copy.show(5)"
   ]
  },
  {
   "cell_type": "code",
   "execution_count": 0,
   "metadata": {
    "application/vnd.databricks.v1+cell": {
     "cellMetadata": {
      "byteLimit": 2048000,
      "rowLimit": 10000
     },
     "inputWidgets": {},
     "nuid": "38fa580d-913d-4077-ad4b-9c57ece961fd",
     "showTitle": false,
     "title": ""
    }
   },
   "outputs": [
    {
     "output_type": "stream",
     "name": "stdout",
     "output_type": "stream",
     "text": [
      "+-----------+------------------+-----------------+------------------+-----------------+---------------+----+---+-----+----+---------+\n|fare_amount|  pickup_longitude|  pickup_latitude| dropoff_longitude| dropoff_latitude|passenger_count|hour|day|month|year|dayofweek|\n+-----------+------------------+-----------------+------------------+-----------------+---------------+----+---+-----+----+---------+\n|        7.5|-73.99981689453125|40.73835372924805|   -73.99951171875|40.72321701049805|              1|  19|  7|    5|2015|        5|\n|        7.7|        -73.994355|        40.728225|         -73.99471|        40.750325|              1|  20| 17|    7|2009|        6|\n|       12.9|        -74.005043|         40.74077|        -73.962565|        40.772647|              1|  21| 24|    8|2009|        2|\n|        5.3|        -73.976124|        40.790844|        -73.965316|        40.803349|              3|   8| 26|    6|2009|        6|\n|       16.0|        -73.925023|        40.744085|-73.97308199999999|        40.761247|              5|  17| 28|    8|2014|        5|\n+-----------+------------------+-----------------+------------------+-----------------+---------------+----+---+-----+----+---------+\nonly showing top 5 rows\n\n"
     ]
    }
   ],
   "source": [
    "# dropping 'pickup_datetime' as it is not required now\n",
    "uber_copy = uber_copy.drop('pickup_datetime')\n",
    "uber_copy.show(5)"
   ]
  },
  {
   "cell_type": "markdown",
   "metadata": {
    "application/vnd.databricks.v1+cell": {
     "cellMetadata": {
      "byteLimit": 2048000,
      "rowLimit": 10000
     },
     "inputWidgets": {},
     "nuid": "0bdf6070-8603-4b3a-88e5-823858bae0cd",
     "showTitle": false,
     "title": ""
    }
   },
   "source": [
    "### Haversine formula\n",
    "This formula to calculate the total distance between two points from the given latitude and longitude \\\n",
    "Link for more details: https://en.wikipedia.org/wiki/Haversine_formula"
   ]
  },
  {
   "cell_type": "code",
   "execution_count": 0,
   "metadata": {
    "application/vnd.databricks.v1+cell": {
     "cellMetadata": {
      "byteLimit": 2048000,
      "rowLimit": 10000
     },
     "inputWidgets": {},
     "nuid": "bf6b4a66-00d9-4fce-9a71-491d3e86715a",
     "showTitle": false,
     "title": ""
    }
   },
   "outputs": [],
   "source": [
    "# defining a user defined fucntion to calculate the distance using Haversine formula\n",
    "def haversine__total_distance(longitude1, latitude1, longitude2, latitude2):\n",
    "    distance_longitude = longitude2 - longitude1\n",
    "    distance_latitude = latitude2 - latitude1\n",
    "    \n",
    "    a = sin(distance_latitude/2)**2 + cos(latitude1) * cos(latitude2) * sin(distance_longitude/2)**2\n",
    "    # Earth radius in kilometers -> 6371\n",
    "    c = 2 * asin(sqrt(a)) * 6371  \n",
    "    \n",
    "    return c"
   ]
  },
  {
   "cell_type": "code",
   "execution_count": 0,
   "metadata": {
    "application/vnd.databricks.v1+cell": {
     "cellMetadata": {
      "byteLimit": 2048000,
      "rowLimit": 10000
     },
     "inputWidgets": {},
     "nuid": "7ef204b2-83d6-4a80-b1dc-1f31182bbc09",
     "showTitle": false,
     "title": ""
    }
   },
   "outputs": [
    {
     "output_type": "stream",
     "name": "stdout",
     "output_type": "stream",
     "text": [
      "+-----------+------------------+-----------------+------------------+-----------------+---------------+----+---+-----+----+---------+------------------+\n|fare_amount|  pickup_longitude|  pickup_latitude| dropoff_longitude| dropoff_latitude|passenger_count|hour|day|month|year|dayofweek|    total_distance|\n+-----------+------------------+-----------------+------------------+-----------------+---------------+----+---+-----+----+---------+------------------+\n|        7.5|-73.99981689453125|40.73835372924805|   -73.99951171875|40.72321701049805|              1|  19|  7|    5|2015|        5| 1.683322752402931|\n|        7.7|        -73.994355|        40.728225|         -73.99471|        40.750325|              1|  20| 17|    7|2009|        6|2.4575898837790584|\n|       12.9|        -74.005043|         40.74077|        -73.962565|        40.772647|              1|  21| 24|    8|2009|        2| 5.036377190242729|\n|        5.3|        -73.976124|        40.790844|        -73.965316|        40.803349|              3|   8| 26|    6|2009|        6| 1.661683458435346|\n|       16.0|        -73.925023|        40.744085|-73.97308199999999|        40.761247|              5|  17| 28|    8|2014|        5| 4.475449963028176|\n+-----------+------------------+-----------------+------------------+-----------------+---------------+----+---+-----+----+---------+------------------+\nonly showing top 5 rows\n\n"
     ]
    }
   ],
   "source": [
    "# calling the user defined function and adding the values to new column\n",
    "uber_copy = uber_copy.withColumn(\"total_distance\", \n",
    "                                  haversine__total_distance(\n",
    "                                      radians(uber_copy[\"pickup_longitude\"]),\n",
    "                                      radians(uber_copy[\"pickup_latitude\"]),\n",
    "                                      radians(uber_copy[\"dropoff_longitude\"]),\n",
    "                                      radians(uber_copy[\"dropoff_latitude\"])\n",
    "                                  ))\n",
    "\n",
    "uber_copy.show(5)"
   ]
  },
  {
   "cell_type": "code",
   "execution_count": 0,
   "metadata": {
    "application/vnd.databricks.v1+cell": {
     "cellMetadata": {
      "byteLimit": 2048000,
      "rowLimit": 10000
     },
     "inputWidgets": {},
     "nuid": "b5fca651-bd63-4c9b-ac90-0b85e662e71f",
     "showTitle": false,
     "title": ""
    }
   },
   "outputs": [
    {
     "output_type": "stream",
     "name": "stdout",
     "output_type": "stream",
     "text": [
      "+-----------+------------------+-----------------+------------------+-----------------+---------------+----+---+-----+----+---------+--------------+\n|fare_amount|  pickup_longitude|  pickup_latitude| dropoff_longitude| dropoff_latitude|passenger_count|hour|day|month|year|dayofweek|total_distance|\n+-----------+------------------+-----------------+------------------+-----------------+---------------+----+---+-----+----+---------+--------------+\n|        7.5|-73.99981689453125|40.73835372924805|   -73.99951171875|40.72321701049805|              1|  19|  7|    5|2015|        5|          1.68|\n|        7.7|        -73.994355|        40.728225|         -73.99471|        40.750325|              1|  20| 17|    7|2009|        6|          2.46|\n|       12.9|        -74.005043|         40.74077|        -73.962565|        40.772647|              1|  21| 24|    8|2009|        2|          5.04|\n|        5.3|        -73.976124|        40.790844|        -73.965316|        40.803349|              3|   8| 26|    6|2009|        6|          1.66|\n|       16.0|        -73.925023|        40.744085|-73.97308199999999|        40.761247|              5|  17| 28|    8|2014|        5|          4.48|\n+-----------+------------------+-----------------+------------------+-----------------+---------------+----+---+-----+----+---------+--------------+\nonly showing top 5 rows\n\n"
     ]
    }
   ],
   "source": [
    "# rounding off the 'total_distance' column to 2 decimal significance\n",
    "uber_copy = uber_copy.withColumn('total_distance', round(uber_copy['total_distance'],2))\n",
    "uber_copy.show(5)"
   ]
  },
  {
   "cell_type": "code",
   "execution_count": 0,
   "metadata": {
    "application/vnd.databricks.v1+cell": {
     "cellMetadata": {
      "byteLimit": 2048000,
      "rowLimit": 10000
     },
     "inputWidgets": {},
     "nuid": "d162d4e5-4240-438b-8d7d-5782d4bef7dd",
     "showTitle": false,
     "title": ""
    }
   },
   "outputs": [
    {
     "output_type": "stream",
     "name": "stdout",
     "output_type": "stream",
     "text": [
      "+-------+----------------+------------------+------------------+------------------+------------------+------------------+------------------+------------------+------------------+------------------+-----------------+------------------+\n|summary|     fare_amount|  pickup_longitude|   pickup_latitude| dropoff_longitude|  dropoff_latitude|   passenger_count|              hour|               day|             month|              year|        dayofweek|    total_distance|\n+-------+----------------+------------------+------------------+------------------+------------------+------------------+------------------+------------------+------------------+------------------+-----------------+------------------+\n|  count|          199999|            199999|            199999|            199999|            199999|            199999|            199999|            199999|            199999|            199999|           199999|            199999|\n|   mean|11.3598915494577|-72.52763080148604| 39.93588115895803| -72.5252916274742|  39.9238904018327|1.6845434227171137|13.491387456937284|15.704738523692619| 6.281791408957044|2011.7424337121686|4.122995614978075|20.855349226746164|\n| stddev|9.90175999942683|11.437815491083814| 7.720558478319406| 13.11740777853664| 6.794828840545128| 1.385994897260367| 6.515505282981794| 8.687376807855387|3.4389333028560767| 1.856399580173593|1.987271155832095| 382.9646454200661|\n|    min|           -52.0|       -1340.64841|-74.01551500000001|        -3356.6663|-881.9855130000001|                 0|                 0|                 1|                 1|              2009|                1|               0.0|\n|    max|           499.0|         57.418457|       1644.421482|1153.5726029999998| 872.6976279999999|               208|                23|                31|                12|              2015|                7|          16409.24|\n+-------+----------------+------------------+------------------+------------------+------------------+------------------+------------------+------------------+------------------+------------------+-----------------+------------------+\n\n"
     ]
    }
   ],
   "source": [
    "uber_copy.describe().show()"
   ]
  },
  {
   "cell_type": "markdown",
   "metadata": {
    "application/vnd.databricks.v1+cell": {
     "cellMetadata": {
      "byteLimit": 2048000,
      "rowLimit": 10000
     },
     "inputWidgets": {},
     "nuid": "9128f1c8-fb1c-4c28-b689-060665b45948",
     "showTitle": false,
     "title": ""
    }
   },
   "source": [
    "### Inferences from uber_copy.describe()"
   ]
  },
  {
   "cell_type": "markdown",
   "metadata": {
    "application/vnd.databricks.v1+cell": {
     "cellMetadata": {
      "byteLimit": 2048000,
      "rowLimit": 10000
     },
     "inputWidgets": {},
     "nuid": "11fdf158-596d-45a4-a8a6-7afed97f4da9",
     "showTitle": false,
     "title": ""
    }
   },
   "source": [
    "##### The minimum and maximum range of Latitude and Longitude for USA is: \\\n",
    "##### Latitude Range (Contiguous US): 24.4° (Southernmost point in Florida) to 49.4° (Northernmost point in Minnesota) \\\n",
    "##### Longitude Range (Contiguous US): -124.7° (Westernmost point in Washington) to -66.9° (Easternmost point in Maine)"
   ]
  },
  {
   "cell_type": "code",
   "execution_count": 0,
   "metadata": {
    "application/vnd.databricks.v1+cell": {
     "cellMetadata": {
      "byteLimit": 2048000,
      "rowLimit": 10000
     },
     "inputWidgets": {},
     "nuid": "52437264-26cb-4730-b941-4b44cd61e952",
     "showTitle": false,
     "title": ""
    }
   },
   "outputs": [
    {
     "output_type": "stream",
     "name": "stdout",
     "output_type": "stream",
     "text": [
      "root\n |-- fare_amount: double (nullable = true)\n |-- pickup_longitude: double (nullable = true)\n |-- pickup_latitude: double (nullable = true)\n |-- dropoff_longitude: double (nullable = true)\n |-- dropoff_latitude: double (nullable = true)\n |-- passenger_count: integer (nullable = true)\n |-- hour: integer (nullable = true)\n |-- day: integer (nullable = true)\n |-- month: integer (nullable = true)\n |-- year: integer (nullable = true)\n |-- dayofweek: integer (nullable = true)\n |-- total_distance: double (nullable = true)\n\n"
     ]
    }
   ],
   "source": [
    "uber_copy.printSchema()"
   ]
  },
  {
   "cell_type": "code",
   "execution_count": 0,
   "metadata": {
    "application/vnd.databricks.v1+cell": {
     "cellMetadata": {
      "byteLimit": 2048000,
      "rowLimit": 10000
     },
     "inputWidgets": {},
     "nuid": "4a066748-1bdd-4e7a-874e-b6fa62bb4bd9",
     "showTitle": false,
     "title": ""
    }
   },
   "outputs": [
    {
     "output_type": "stream",
     "name": "stdout",
     "output_type": "stream",
     "text": [
      "+-----------+------------------+-----------------+------------------+-----------------+---------------+----+---+-----+----+---------+--------------+\n|fare_amount|  pickup_longitude|  pickup_latitude| dropoff_longitude| dropoff_latitude|passenger_count|hour|day|month|year|dayofweek|total_distance|\n+-----------+------------------+-----------------+------------------+-----------------+---------------+----+---+-----+----+---------+--------------+\n|        7.5|-73.99981689453125|40.73835372924805|   -73.99951171875|40.72321701049805|              1|  19|  7|    5|2015|        5|          1.68|\n|        7.7|        -73.994355|        40.728225|         -73.99471|        40.750325|              1|  20| 17|    7|2009|        6|          2.46|\n|       12.9|        -74.005043|         40.74077|        -73.962565|        40.772647|              1|  21| 24|    8|2009|        2|          5.04|\n|        5.3|        -73.976124|        40.790844|        -73.965316|        40.803349|              3|   8| 26|    6|2009|        6|          1.66|\n|       16.0|        -73.925023|        40.744085|-73.97308199999999|        40.761247|              5|  17| 28|    8|2014|        5|          4.48|\n+-----------+------------------+-----------------+------------------+-----------------+---------------+----+---+-----+----+---------+--------------+\nonly showing top 5 rows\n\n"
     ]
    }
   ],
   "source": [
    "# dropping the rows which does not fall in given latitude and logitude range\n",
    "uber_copy = uber_copy.filter( (col('pickup_latitude') >= 24.4) & (col('pickup_latitude') <= 49.4) & \\\n",
    "                              (col('dropoff_latitude') >= 24.4) & (col('dropoff_latitude') <= 49.4) & \\\n",
    "                              (col('pickup_longitude') >= -124.7) & (col('pickup_longitude') <= -66.9) & \\\n",
    "                              (col('dropoff_longitude') >= -124.7) & (col('dropoff_longitude') <= -66.9) )\n",
    "uber_copy.show(5)"
   ]
  },
  {
   "cell_type": "code",
   "execution_count": 0,
   "metadata": {
    "application/vnd.databricks.v1+cell": {
     "cellMetadata": {
      "byteLimit": 2048000,
      "rowLimit": 10000
     },
     "inputWidgets": {},
     "nuid": "7fddacd2-50ac-4d13-bba9-97e5a2e76a9b",
     "showTitle": false,
     "title": ""
    }
   },
   "outputs": [
    {
     "output_type": "stream",
     "name": "stdout",
     "output_type": "stream",
     "text": [
      "Out[49]: 195860"
     ]
    }
   ],
   "source": [
    "# total rows after removing irrelevant latitude and longitude\n",
    "uber_copy.count()"
   ]
  },
  {
   "cell_type": "markdown",
   "metadata": {
    "application/vnd.databricks.v1+cell": {
     "cellMetadata": {},
     "inputWidgets": {},
     "nuid": "82c64e66-adf3-4eb3-9509-ee367024cf02",
     "showTitle": false,
     "title": ""
    }
   },
   "source": [
    "##### Idealy passengers can't be 0 so removing the records with 0 passengers"
   ]
  },
  {
   "cell_type": "code",
   "execution_count": 0,
   "metadata": {
    "application/vnd.databricks.v1+cell": {
     "cellMetadata": {
      "byteLimit": 2048000,
      "rowLimit": 10000
     },
     "inputWidgets": {},
     "nuid": "1e34f5eb-fd7a-4196-9c6d-befb3d537692",
     "showTitle": false,
     "title": ""
    }
   },
   "outputs": [
    {
     "output_type": "stream",
     "name": "stdout",
     "output_type": "stream",
     "text": [
      "+-----------+------------------+-----------------+------------------+-----------------+---------------+----+---+-----+----+---------+--------------+\n|fare_amount|  pickup_longitude|  pickup_latitude| dropoff_longitude| dropoff_latitude|passenger_count|hour|day|month|year|dayofweek|total_distance|\n+-----------+------------------+-----------------+------------------+-----------------+---------------+----+---+-----+----+---------+--------------+\n|        7.5|-73.99981689453125|40.73835372924805|   -73.99951171875|40.72321701049805|              1|  19|  7|    5|2015|        5|          1.68|\n|        7.7|        -73.994355|        40.728225|         -73.99471|        40.750325|              1|  20| 17|    7|2009|        6|          2.46|\n|       12.9|        -74.005043|         40.74077|        -73.962565|        40.772647|              1|  21| 24|    8|2009|        2|          5.04|\n|        5.3|        -73.976124|        40.790844|        -73.965316|        40.803349|              3|   8| 26|    6|2009|        6|          1.66|\n|       16.0|        -73.925023|        40.744085|-73.97308199999999|        40.761247|              5|  17| 28|    8|2014|        5|          4.48|\n+-----------+------------------+-----------------+------------------+-----------------+---------------+----+---+-----+----+---------+--------------+\nonly showing top 5 rows\n\n"
     ]
    }
   ],
   "source": [
    "uber_copy = uber_copy.filter(uber_copy['passenger_count'] > 0)\n",
    "uber_copy.show(5)"
   ]
  },
  {
   "cell_type": "code",
   "execution_count": 0,
   "metadata": {
    "application/vnd.databricks.v1+cell": {
     "cellMetadata": {
      "byteLimit": 2048000,
      "rowLimit": 10000
     },
     "inputWidgets": {},
     "nuid": "acd9c293-7b40-4352-b486-b1ac11e257f4",
     "showTitle": false,
     "title": ""
    }
   },
   "outputs": [
    {
     "output_type": "stream",
     "name": "stdout",
     "output_type": "stream",
     "text": [
      "Out[52]: 195174"
     ]
    }
   ],
   "source": [
    "# total rows after removing passengers with 0 \n",
    "uber_copy.count()"
   ]
  },
  {
   "cell_type": "code",
   "execution_count": 0,
   "metadata": {
    "application/vnd.databricks.v1+cell": {
     "cellMetadata": {
      "byteLimit": 2048000,
      "rowLimit": 10000
     },
     "inputWidgets": {},
     "nuid": "f0e9afa4-8655-461f-853c-0d2ea1f69b6f",
     "showTitle": false,
     "title": ""
    }
   },
   "outputs": [
    {
     "output_type": "stream",
     "name": "stdout",
     "output_type": "stream",
     "text": [
      "+---------------+\n|passenger_count|\n+---------------+\n|              1|\n|              6|\n|              3|\n|              5|\n|              4|\n|              2|\n|            208|\n+---------------+\n\n"
     ]
    }
   ],
   "source": [
    "# checking unique passengers count in the dataseet\n",
    "uber_copy.select('passenger_count').distinct().show()"
   ]
  },
  {
   "cell_type": "markdown",
   "metadata": {
    "application/vnd.databricks.v1+cell": {
     "cellMetadata": {},
     "inputWidgets": {},
     "nuid": "83e70271-0133-4287-a66f-fc4ce36ed937",
     "showTitle": false,
     "title": ""
    }
   },
   "source": [
    "##### passenger_count > 6 seem to be outlier for the data so removing it "
   ]
  },
  {
   "cell_type": "code",
   "execution_count": 0,
   "metadata": {
    "application/vnd.databricks.v1+cell": {
     "cellMetadata": {
      "byteLimit": 2048000,
      "rowLimit": 10000
     },
     "inputWidgets": {},
     "nuid": "b9336201-8061-4021-aefa-d05580dcd9ce",
     "showTitle": false,
     "title": ""
    }
   },
   "outputs": [
    {
     "output_type": "stream",
     "name": "stdout",
     "output_type": "stream",
     "text": [
      "+-----------+------------------+-----------------+------------------+-----------------+---------------+----+---+-----+----+---------+--------------+\n|fare_amount|  pickup_longitude|  pickup_latitude| dropoff_longitude| dropoff_latitude|passenger_count|hour|day|month|year|dayofweek|total_distance|\n+-----------+------------------+-----------------+------------------+-----------------+---------------+----+---+-----+----+---------+--------------+\n|        7.5|-73.99981689453125|40.73835372924805|   -73.99951171875|40.72321701049805|              1|  19|  7|    5|2015|        5|          1.68|\n|        7.7|        -73.994355|        40.728225|         -73.99471|        40.750325|              1|  20| 17|    7|2009|        6|          2.46|\n|       12.9|        -74.005043|         40.74077|        -73.962565|        40.772647|              1|  21| 24|    8|2009|        2|          5.04|\n|        5.3|        -73.976124|        40.790844|        -73.965316|        40.803349|              3|   8| 26|    6|2009|        6|          1.66|\n|       16.0|        -73.925023|        40.744085|-73.97308199999999|        40.761247|              5|  17| 28|    8|2014|        5|          4.48|\n+-----------+------------------+-----------------+------------------+-----------------+---------------+----+---+-----+----+---------+--------------+\nonly showing top 5 rows\n\n"
     ]
    }
   ],
   "source": [
    "uber_copy = uber_copy.filter(uber_copy['passenger_count'] <= 6)\n",
    "uber_copy.show(5)"
   ]
  },
  {
   "cell_type": "code",
   "execution_count": 0,
   "metadata": {
    "application/vnd.databricks.v1+cell": {
     "cellMetadata": {
      "byteLimit": 2048000,
      "rowLimit": 10000
     },
     "inputWidgets": {},
     "nuid": "16b387ea-1662-4bdd-b839-0a8d3342b82f",
     "showTitle": false,
     "title": ""
    }
   },
   "outputs": [
    {
     "output_type": "stream",
     "name": "stdout",
     "output_type": "stream",
     "text": [
      "Out[87]: 195173"
     ]
    }
   ],
   "source": [
    "# total rows after removing passengers above 6 \n",
    "uber_copy.count()"
   ]
  },
  {
   "cell_type": "markdown",
   "metadata": {
    "application/vnd.databricks.v1+cell": {
     "cellMetadata": {},
     "inputWidgets": {},
     "nuid": "faf03255-939d-4098-87f7-0b774ec58bbb",
     "showTitle": false,
     "title": ""
    }
   },
   "source": [
    "## Finding the outtliers through BOXPLOT"
   ]
  },
  {
   "cell_type": "code",
   "execution_count": 0,
   "metadata": {
    "application/vnd.databricks.v1+cell": {
     "cellMetadata": {
      "byteLimit": 2048000,
      "rowLimit": 10000
     },
     "inputWidgets": {},
     "nuid": "4118c269-ecd4-4c04-a8be-271dda2ce32a",
     "showTitle": false,
     "title": ""
    }
   },
   "outputs": [
    {
     "output_type": "display_data",
     "data": {
      "image/png": "[encoded data removed]"
     },
     "metadata": {
      "application/vnd.databricks.v1+output": {
       "addedWidgets": {},
       "arguments": {},
       "data": "data:image/png;base64,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\n",
       "datasetInfos": [],
       "metadata": {},
       "removedWidgets": [],
       "type": "image"
      }
     },
     "output_type": "display_data"
    }
   ],
   "source": [
    "# connverting PySpark DataFrame to Pandas DataFrame\n",
    "pandas_df = uber_copy.toPandas()\n",
    "\n",
    "# plotting the boxplot using pandas\n",
    "plt.figure(figsize=(12, 12))\n",
    "pandas_df.boxplot()\n",
    "plt.title(\"Box plots of all columns\")\n",
    "plt.xlabel(\"Columns\")\n",
    "plt.ylabel(\"Values\")\n",
    "plt.xticks(rotation=45)\n",
    "plt.grid(True)\n",
    "plt.show()"
   ]
  },
  {
   "cell_type": "markdown",
   "metadata": {
    "application/vnd.databricks.v1+cell": {
     "cellMetadata": {
      "byteLimit": 2048000,
      "rowLimit": 10000
     },
     "inputWidgets": {},
     "nuid": "ff72860c-2ba0-4fd7-b6b9-6220f2f3311e",
     "showTitle": false,
     "title": ""
    }
   },
   "source": [
    "### Inferences from the boxplot"
   ]
  },
  {
   "cell_type": "code",
   "execution_count": 0,
   "metadata": {
    "application/vnd.databricks.v1+cell": {
     "cellMetadata": {},
     "inputWidgets": {},
     "nuid": "d03ca266-11d3-45b5-8947-17125608e775",
     "showTitle": false,
     "title": ""
    }
   },
   "outputs": [],
   "source": []
  }
 ],
 "metadata": {
  "application/vnd.databricks.v1+notebook": {
   "dashboards": [],
   "language": "python",
   "notebookMetadata": {
    "pythonIndentUnit": 4
   },
   "notebookName": "Uber_Fare_Prediction",
   "widgets": {}
  }
 },
 "nbformat": 4,
 "nbformat_minor": 0
}
